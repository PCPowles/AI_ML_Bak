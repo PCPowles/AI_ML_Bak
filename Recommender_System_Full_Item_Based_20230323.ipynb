{
 "cells": [
  {
   "cell_type": "code",
   "execution_count": null,
   "metadata": {},
   "outputs": [],
   "source": [
    "# item-based collaborative filtering\n",
    "# p.230\n",
    "\n",
    "import pandas as pd\n",
    "\n",
    "r_cols = ['user_id','movie_id','rating']\n",
    "ratings = pd.read_csv('C:/Users/pcpow/OneDrive/Desktop/DataScience_Udemy_20230321/u.data', sep='\\t', names=r_cols, usecols=range(3))\n",
    "\n",
    "m_cols = ['movie_id','title']\n",
    "movies = pd.read_csv('', sep = '|', names=m_cols, usecols=range(2))\n",
    "\n",
    "ratings = pd.merge(movies, ratings)\n",
    "ratings.head()\n",
    "\n"
   ]
  }
 ],
 "metadata": {
  "kernelspec": {
   "display_name": "Python 3",
   "language": "python",
   "name": "python3"
  },
  "language_info": {
   "codemirror_mode": {
    "name": "ipython",
    "version": 3
   },
   "file_extension": ".py",
   "mimetype": "text/x-python",
   "name": "python",
   "nbconvert_exporter": "python",
   "pygments_lexer": "ipython3",
   "version": "3.7.4"
  }
 },
 "nbformat": 4,
 "nbformat_minor": 2
}
