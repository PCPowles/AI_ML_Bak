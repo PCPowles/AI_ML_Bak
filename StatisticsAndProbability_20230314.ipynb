{
 "cells": [
  {
   "cell_type": "code",
   "execution_count": 1,
   "metadata": {},
   "outputs": [
    {
     "data": {
      "text/plain": [
       "26755.1013056309"
      ]
     },
     "execution_count": 1,
     "metadata": {},
     "output_type": "execute_result"
    }
   ],
   "source": [
    "import numpy as np\n",
    "\n",
    "incomes = np.random.normal(27000, 15000, 10000)\n",
    "np.mean(incomes)"
   ]
  },
  {
   "cell_type": "code",
   "execution_count": 2,
   "metadata": {},
   "outputs": [
    {
     "data": {
      "image/png": "[encoded data removed]",
      "text/plain": [
       "<Figure size 432x288 with 1 Axes>"
      ]
     },
     "metadata": {
      "needs_background": "light"
     },
     "output_type": "display_data"
    }
   ],
   "source": [
    "%matplotlib inline\n",
    "import matplotlib.pyplot as plt\n",
    "plt.hist(incomes, 50)\n",
    "plt.show()"
   ]
  },
  {
   "cell_type": "code",
   "execution_count": 3,
   "metadata": {},
   "outputs": [
    {
     "data": {
      "text/plain": [
       "26795.449302538458"
      ]
     },
     "execution_count": 3,
     "metadata": {},
     "output_type": "execute_result"
    }
   ],
   "source": [
    "np.median(incomes)"
   ]
  },
  {
   "cell_type": "code",
   "execution_count": 5,
   "metadata": {},
   "outputs": [
    {
     "data": {
      "image/png": "[encoded data removed]",
      "text/plain": [
       "<Figure size 432x288 with 1 Axes>"
      ]
     },
     "metadata": {
      "needs_background": "light"
     },
     "output_type": "display_data"
    }
   ],
   "source": [
    "%matplotlib inline\n",
    "import matplotlib.pyplot as plt\n",
    "plt.hist(incomes, 100)\n",
    "plt.show()"
   ]
  },
  {
   "cell_type": "code",
   "execution_count": 6,
   "metadata": {},
   "outputs": [],
   "source": [
    "incomes = np.append(incomes, [1000000000])"
   ]
  },
  {
   "cell_type": "code",
   "execution_count": 7,
   "metadata": {},
   "outputs": [
    {
     "data": {
      "text/plain": [
       "26795.69820486331"
      ]
     },
     "execution_count": 7,
     "metadata": {},
     "output_type": "execute_result"
    }
   ],
   "source": [
    "np.median(incomes)"
   ]
  },
  {
   "cell_type": "code",
   "execution_count": 8,
   "metadata": {},
   "outputs": [
    {
     "data": {
      "text/plain": [
       "126742.42706292459"
      ]
     },
     "execution_count": 8,
     "metadata": {},
     "output_type": "execute_result"
    }
   ],
   "source": [
    "np.mean(incomes)"
   ]
  },
  {
   "cell_type": "code",
   "execution_count": 10,
   "metadata": {},
   "outputs": [
    {
     "data": {
      "text/plain": [
       "array([29, 72, 49, 84, 75, 32, 49, 67, 52, 39, 38, 72, 31, 76, 30, 36, 89,\n",
       "       54, 58, 80, 60, 69, 63, 75, 40, 80, 48, 76, 40, 29, 76, 89, 51, 81,\n",
       "       75, 87, 87, 61, 33, 82, 60, 81, 25, 71, 36, 61, 83, 80, 74, 88, 68,\n",
       "       32, 67, 72, 30, 72, 44, 55, 43, 66, 38, 42, 61, 46, 25, 44, 47, 49,\n",
       "       34, 78, 65, 85, 44, 29, 81, 80, 45, 30, 78, 47, 68, 85, 88, 79, 60,\n",
       "       21, 53, 39, 66, 55, 61, 31, 20, 79, 81, 51, 71, 21, 33, 27, 69, 40,\n",
       "       22, 42, 51, 48, 23, 64, 85, 24, 82, 25, 88, 59, 83, 64, 67, 33, 46,\n",
       "       19, 56, 50, 26, 29, 25, 47, 55, 38, 55, 67, 55, 60, 82, 28, 86, 52,\n",
       "       83, 85, 51, 71, 23, 35, 20, 31, 72, 57, 57, 55, 50, 32, 61, 51, 69,\n",
       "       76, 20, 70, 43, 73, 61, 31, 78, 56, 20, 54, 86, 86, 68, 75, 65, 78,\n",
       "       52, 78, 23, 54, 79, 60, 85, 70, 67, 76, 69, 60, 87, 52, 82, 80, 83,\n",
       "       76, 69, 69, 54, 85, 28, 47, 85, 56, 76, 60, 37, 59, 44, 20, 77, 60,\n",
       "       75, 67, 47, 18, 72, 27, 65, 84, 57, 27, 77, 28, 68, 77, 29, 87, 72,\n",
       "       62, 74, 27, 38, 58, 64, 63, 37, 32, 79, 40, 24, 60, 27, 58, 63, 70,\n",
       "       57, 24, 25, 83, 32, 25, 49, 76, 54, 53, 19, 54, 45, 45, 57, 50, 21,\n",
       "       50, 51, 49, 25, 79, 64, 62, 59, 70, 48, 18, 73, 84, 18, 22, 21, 53,\n",
       "       75, 52, 81, 29, 47, 63, 19, 21, 31, 71, 22, 49, 88, 32, 40, 28, 52,\n",
       "       77, 18, 45, 36, 59, 78, 26, 85, 32, 39, 47, 25, 45, 21, 57, 18, 69,\n",
       "       64, 31, 52, 54, 77, 79, 38, 74, 67, 45, 69, 80, 34, 34, 24, 35, 28,\n",
       "       32, 32, 54, 55, 43, 31, 21, 73, 76, 60, 19, 56, 55, 26, 44, 20, 31,\n",
       "       18, 36, 41, 63, 66, 84, 73, 78, 32, 32, 73, 55, 49, 80, 19, 26, 55,\n",
       "       27, 82, 53, 26, 63, 51, 77, 68, 56, 83, 65, 55, 87, 66, 35, 64, 51,\n",
       "       72, 28, 24, 27, 21, 54, 74, 22, 70, 52, 20, 35, 79, 41, 53, 70, 85,\n",
       "       69, 41, 26, 64, 49, 82, 47, 67, 84, 21, 67, 52, 23, 56, 56, 43, 28,\n",
       "       88, 58, 41, 21, 45, 78, 74, 47, 67, 77, 72, 32, 26, 24, 45, 19, 61,\n",
       "       61, 21, 43, 82, 76, 19, 20, 31, 41, 64, 81, 82, 30, 32, 37, 64, 87,\n",
       "       28, 80, 45, 47, 21, 44, 35, 45, 70, 54, 83, 68, 87, 86, 50, 56, 73,\n",
       "       52, 45, 60, 69, 45, 43, 36, 31, 60, 69, 30, 76, 63, 50, 25, 68, 68,\n",
       "       48, 70, 22, 22, 33, 80, 36, 23, 43, 75, 54, 40, 72, 22, 49, 85, 26,\n",
       "       18, 79, 22, 51, 21, 51, 34])"
      ]
     },
     "execution_count": 10,
     "metadata": {},
     "output_type": "execute_result"
    }
   ],
   "source": [
    "ages = np.random.randint(18, high=90, size=500)\n",
    "ages"
   ]
  },
  {
   "cell_type": "code",
   "execution_count": 11,
   "metadata": {},
   "outputs": [
    {
     "data": {
      "text/plain": [
       "ModeResult(mode=array([21]), count=array([13]))"
      ]
     },
     "execution_count": 11,
     "metadata": {},
     "output_type": "execute_result"
    }
   ],
   "source": [
    "from scipy import stats\n",
    "stats.mode(ages)"
   ]
  },
  {
   "cell_type": "code",
   "execution_count": 14,
   "metadata": {},
   "outputs": [
    {
     "data": {
      "text/plain": [
       "array([27, 20, 59, 82, 34, 73, 78, 70, 57, 61, 51, 74, 45, 28, 18, 68, 84,\n",
       "       59, 73, 55, 82, 21, 68, 37, 72, 24, 33, 45, 43, 28, 86, 33, 47, 32,\n",
       "       67, 26, 65, 62, 25, 88, 36, 68, 76, 69, 84, 85, 26, 22, 87, 71, 82,\n",
       "       43, 64, 27, 41, 47, 48, 67, 88, 52, 25, 61, 35, 35, 53, 43, 79, 55,\n",
       "       55, 53, 71, 79, 33, 36, 40, 41, 75, 22, 43, 28, 36, 52, 35, 25, 33,\n",
       "       40, 29, 76, 82, 54, 30, 40, 76, 58, 33, 61, 24, 48, 58, 63, 55, 63,\n",
       "       23, 86, 79, 50, 26, 51, 22, 29, 53, 55, 20, 80, 45, 19, 57, 44, 78,\n",
       "       45, 75, 36, 24, 77, 50, 34, 69, 45, 35, 53, 74, 56, 65, 30, 73, 29,\n",
       "       45, 67, 46, 18, 63, 53, 24, 63, 26, 49, 76, 53, 77, 58, 61, 53, 77,\n",
       "       67, 50, 35, 81, 87, 84, 21, 46, 51, 23, 57, 39, 48, 75, 43, 60, 53,\n",
       "       76, 67, 57, 67, 87, 83, 25, 85, 66, 23, 38, 76, 55, 50, 65, 73, 85,\n",
       "       76, 88, 64, 33, 25, 88, 63, 31, 30, 29, 79, 31, 28, 82, 38, 53, 52,\n",
       "       74, 79, 45, 56, 77, 81, 25, 51, 61, 37, 87, 70, 79, 44, 85, 31, 21,\n",
       "       29, 27, 72, 27, 81, 68, 33, 46, 18, 55, 49, 84, 55, 69, 67, 29, 30,\n",
       "       59, 29, 52, 31, 72, 64, 51, 84, 25, 69, 62, 63, 72, 51, 27, 23, 80,\n",
       "       75, 64, 48, 67, 79, 18, 74, 28, 72, 85, 57, 38, 84, 89, 45, 45, 43,\n",
       "       78, 33, 77, 36, 84, 70, 43, 40, 61, 85, 46, 42, 43, 21, 82, 53, 64,\n",
       "       47, 59, 66, 84, 19, 22, 83, 41, 76, 57, 27, 46, 53, 68, 51, 31, 77,\n",
       "       88, 22, 19, 46, 49, 64, 78, 64, 57, 58, 28, 77, 63, 85, 34, 23, 33,\n",
       "       47, 63, 82, 63, 40, 36, 24, 23, 26, 58, 56, 64, 77, 77, 35, 21, 61,\n",
       "       78, 84, 82, 57, 47, 85, 57, 26, 78, 68, 84, 27, 25, 70, 83, 54, 53,\n",
       "       24, 77, 70, 46, 84, 70, 27, 61, 43, 22, 52, 84, 80, 71, 40, 39, 66,\n",
       "       49, 29, 27, 88, 60, 40, 36, 43, 69, 36, 73, 59, 56, 58, 71, 55, 24,\n",
       "       83, 35, 49, 69, 82, 82, 25, 48, 87, 63, 28, 18, 85, 21, 88, 33, 68,\n",
       "       78, 50, 62, 53, 44, 33, 21, 50, 38, 82, 77, 84, 79, 80, 55, 19, 45,\n",
       "       33, 28, 81, 78, 42, 79, 72, 25, 87, 87, 38, 24, 89, 51, 84, 22, 39,\n",
       "       52, 66, 46, 38, 49, 45, 44, 62, 72, 75, 86, 29, 22, 56, 27, 64, 86,\n",
       "       67, 56, 83, 79, 87, 31, 80, 18, 49, 21, 63, 39, 41, 85, 39, 22, 28,\n",
       "       75, 52, 87, 76, 33, 54, 64, 24, 25, 48, 72, 82, 52, 52, 33, 56, 76,\n",
       "       43, 63, 20, 86, 59, 51, 54])"
      ]
     },
     "execution_count": 14,
     "metadata": {},
     "output_type": "execute_result"
    }
   ],
   "source": [
    "ages2 = np.random.randint(18, high=90, size=500)\n",
    "ages2"
   ]
  },
  {
   "cell_type": "code",
   "execution_count": 15,
   "metadata": {},
   "outputs": [
    {
     "data": {
      "text/plain": [
       "ModeResult(mode=array([33]), count=array([14]))"
      ]
     },
     "execution_count": 15,
     "metadata": {},
     "output_type": "execute_result"
    }
   ],
   "source": [
    "from scipy import stats\n",
    "stats.mode(ages2)"
   ]
  },
  {
   "cell_type": "code",
   "execution_count": null,
   "metadata": {},
   "outputs": [],
   "source": []
  },
  {
   "cell_type": "code",
   "execution_count": null,
   "metadata": {},
   "outputs": [],
   "source": []
  },
  {
   "cell_type": "code",
   "execution_count": null,
   "metadata": {},
   "outputs": [],
   "source": []
  },
  {
   "cell_type": "code",
   "execution_count": null,
   "metadata": {},
   "outputs": [],
   "source": []
  }
 ],
 "metadata": {
  "kernelspec": {
   "display_name": "Python 3",
   "language": "python",
   "name": "python3"
  },
  "language_info": {
   "codemirror_mode": {
    "name": "ipython",
    "version": 3
   },
   "file_extension": ".py",
   "mimetype": "text/x-python",
   "name": "python",
   "nbconvert_exporter": "python",
   "pygments_lexer": "ipython3",
   "version": "3.7.4"
  }
 },
 "nbformat": 4,
 "nbformat_minor": 4
}
