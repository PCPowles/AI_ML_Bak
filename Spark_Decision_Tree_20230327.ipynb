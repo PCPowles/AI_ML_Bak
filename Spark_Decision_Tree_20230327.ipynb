{
 "cells": [
  {
   "cell_type": "code",
   "execution_count": null,
   "metadata": {},
   "outputs": [],
   "source": [
    "# Spark Decision Tree\n",
    "# Install PySpark\n",
    "# https://sparkbyexamples.com/pyspark/install-pyspark-in-anaconda-jupyter-notebook/"
   ]
  },
  {
   "cell_type": "code",
   "execution_count": 1,
   "metadata": {},
   "outputs": [
    {
     "name": "stdout",
     "output_type": "stream",
     "text": [
      "Hire prediction:\n",
      "1.0\n",
      "Learned classification tree model:\n",
      "DecisionTreeModel classifier of depth 4 with 9 nodes\n",
      "  If (feature 1 in {0.0})\n",
      "   If (feature 5 in {0.0})\n",
      "    If (feature 0 <= 0.5)\n",
      "     If (feature 3 in {1.0})\n",
      "      Predict: 0.0\n",
      "     Else (feature 3 not in {1.0})\n",
      "      Predict: 1.0\n",
      "    Else (feature 0 > 0.5)\n",
      "     Predict: 0.0\n",
      "   Else (feature 5 not in {0.0})\n",
      "    Predict: 1.0\n",
      "  Else (feature 1 not in {0.0})\n",
      "   Predict: 1.0\n",
      "\n"
     ]
    }
   ],
   "source": [
    "from pyspark.mllib.regression import LabeledPoint\n",
    "from pyspark.mllib.tree import DecisionTree\n",
    "from pyspark import SparkConf, SparkContext\n",
    "from numpy import array\n",
    "\n",
    "# ----------------------------------------------------------\n",
    "# PCP 20230328\n",
    "import os\n",
    "import sys\n",
    "os.environ['PYSPARK_PYTHON'] = sys.executable\n",
    "os.environ['PYSPARK_DRIVER_PYTHON'] = sys.executable\n",
    "\n",
    "# ----------------------------------------------------------\n",
    "\n",
    "\n",
    "# Boilerplate Spark stuff:\n",
    "conf = SparkConf().setMaster(\"local\").setAppName(\"SparkDecisionTree\")\n",
    "sc = SparkContext(conf = conf)\n",
    "\n",
    "# Some functions that convert our CSV input data into numerical\n",
    "# features for each job candidate\n",
    "def binary(YN):\n",
    "    if (YN == 'Y'):\n",
    "        return 1\n",
    "    else:\n",
    "        return 0\n",
    "\n",
    "def mapEducation(degree):\n",
    "    if (degree == 'BS'):\n",
    "        return 1\n",
    "    elif (degree =='MS'):\n",
    "        return 2\n",
    "    elif (degree == 'PhD'):\n",
    "        return 3\n",
    "    else:\n",
    "        return 0\n",
    "\n",
    "# Convert a list of raw fields from our CSV file to a\n",
    "# LabeledPoint that MLLib can use. All data must be numerical...\n",
    "def createLabeledPoints(fields):\n",
    "    yearsExperience = int(fields[0])\n",
    "    employed = binary(fields[1])\n",
    "    previousEmployers = int(fields[2])\n",
    "    educationLevel = mapEducation(fields[3])\n",
    "    topTier = binary(fields[4])\n",
    "    interned = binary(fields[5])\n",
    "    hired = binary(fields[6])\n",
    "\n",
    "    return LabeledPoint(hired, array([yearsExperience, employed,\n",
    "        previousEmployers, educationLevel, topTier, interned]))\n",
    "\n",
    "#Load up our CSV file, and filter out the header line with the column names\n",
    "# rawData = sc.textFile(\"e:/sundog-consult/udemy/datascience/PastHires.csv\")\n",
    "# \"C:\\Users\\pcpow\\OneDrive\\Desktop\\DataScience_Udemy_20230321\\DataScience\\DataScience-Python3\\PastHires.csv\"\n",
    "rawData = sc.textFile(\"C:/Users/pcpow/OneDrive/Desktop/DataScience_Udemy_20230321/DataScience/DataScience-Python3/PastHires.csv\")\n",
    "\n",
    "\n",
    "header = rawData.first()\n",
    "rawData = rawData.filter(lambda x:x != header)\n",
    "\n",
    "# Split each line into a list based on the comma delimiters\n",
    "csvData = rawData.map(lambda x: x.split(\",\"))\n",
    "\n",
    "# Convert these lists to LabeledPoints\n",
    "trainingData = csvData.map(createLabeledPoints)\n",
    "\n",
    "# Create a test candidate, with 10 years of experience, currently employed,\n",
    "# 3 previous employers, a BS degree, but from a non-top-tier school where\n",
    "# he or she did not do an internship. You could of course load up a whole\n",
    "# huge RDD of test candidates from disk, too.\n",
    "testCandidates = [ array([10, 1, 3, 1, 0, 0])]\n",
    "testData = sc.parallelize(testCandidates)\n",
    "\n",
    "# Train our DecisionTree classifier using our data set\n",
    "model = DecisionTree.trainClassifier(trainingData, numClasses=2,\n",
    "                                     categoricalFeaturesInfo={1:2, 3:4, 4:2, 5:2},\n",
    "                                     impurity='gini', maxDepth=5, maxBins=32)\n",
    "\n",
    "# Now get predictions for our unknown candidates. (Note, you could separate\n",
    "# the source data into a training set and a test set while tuning\n",
    "# parameters and measure accuracy as you go!)\n",
    "predictions = model.predict(testData)\n",
    "print('Hire prediction:')\n",
    "results = predictions.collect()\n",
    "for result in results:\n",
    "    print(result)\n",
    "\n",
    "# We can also print out the decision tree itself:\n",
    "print('Learned classification tree model:')\n",
    "print(model.toDebugString())\n"
   ]
  },
  {
   "cell_type": "code",
   "execution_count": null,
   "metadata": {},
   "outputs": [],
   "source": [
    "\n"
   ]
  },
  {
   "cell_type": "code",
   "execution_count": null,
   "metadata": {},
   "outputs": [],
   "source": []
  },
  {
   "cell_type": "code",
   "execution_count": null,
   "metadata": {},
   "outputs": [],
   "source": []
  },
  {
   "cell_type": "code",
   "execution_count": 8,
   "metadata": {},
   "outputs": [
    {
     "name": "stdout",
     "output_type": "stream",
     "text": [
      "3.14164644\n"
     ]
    }
   ],
   "source": [
    "import findspark\n",
    "findspark.init()\n",
    "import pyspark\n",
    "import random\n",
    "sc = pyspark.SparkContext(appName=\"Pi\")\n",
    "num_samples = 100000000\n",
    "def inside(p):     \n",
    "  x, y = random.random(), random.random()\n",
    "  return x*x + y*y < 1\n",
    "count = sc.parallelize(range(0, num_samples)).filter(inside).count()\n",
    "pi = 4 * count / num_samples\n",
    "print(pi)\n",
    "sc.stop()"
   ]
  },
  {
   "cell_type": "code",
   "execution_count": 9,
   "metadata": {},
   "outputs": [
    {
     "data": {
      "text/plain": [
       "78541161"
      ]
     },
     "execution_count": 9,
     "metadata": {},
     "output_type": "execute_result"
    }
   ],
   "source": [
    "count"
   ]
  },
  {
   "cell_type": "code",
   "execution_count": null,
   "metadata": {},
   "outputs": [],
   "source": []
  },
  {
   "cell_type": "code",
   "execution_count": null,
   "metadata": {},
   "outputs": [],
   "source": []
  },
  {
   "cell_type": "code",
   "execution_count": null,
   "metadata": {},
   "outputs": [],
   "source": []
  },
  {
   "cell_type": "code",
   "execution_count": 3,
   "metadata": {},
   "outputs": [
    {
     "name": "stdout",
     "output_type": "stream",
     "text": [
      "3.7.4\n"
     ]
    }
   ],
   "source": [
    "from platform import python_version\n",
    "\n",
    "print(python_version())"
   ]
  },
  {
   "cell_type": "code",
   "execution_count": null,
   "metadata": {},
   "outputs": [],
   "source": [
    "from platform import python_version\n",
    "\n",
    "print(python_version())"
   ]
  },
  {
   "cell_type": "code",
   "execution_count": null,
   "metadata": {},
   "outputs": [],
   "source": []
  },
  {
   "cell_type": "code",
   "execution_count": null,
   "metadata": {},
   "outputs": [],
   "source": []
  },
  {
   "cell_type": "code",
   "execution_count": 5,
   "metadata": {},
   "outputs": [
    {
     "ename": "KeyError",
     "evalue": "'PYSPARK_PYTHON'",
     "output_type": "error",
     "traceback": [
      "\u001b[1;31m---------------------------------------------------------------------------\u001b[0m",
      "\u001b[1;31mKeyError\u001b[0m                                  Traceback (most recent call last)",
      "\u001b[1;32m<ipython-input-5-c4bacd7b946a>\u001b[0m in \u001b[0;36m<module>\u001b[1;34m\u001b[0m\n\u001b[0;32m      4\u001b[0m \u001b[1;31m# os.environ['PYSPARK_PYTHON'] = '/usr/bin/python3'\u001b[0m\u001b[1;33m\u001b[0m\u001b[1;33m\u001b[0m\u001b[1;33m\u001b[0m\u001b[0m\n\u001b[0;32m      5\u001b[0m \u001b[1;31m# os.environ['PYSPARK_DRIVER_PYTHON'] = '/usr/bin/python3'\u001b[0m\u001b[1;33m\u001b[0m\u001b[1;33m\u001b[0m\u001b[1;33m\u001b[0m\u001b[0m\n\u001b[1;32m----> 6\u001b[1;33m \u001b[0mprint\u001b[0m \u001b[1;33m(\u001b[0m\u001b[0mos\u001b[0m\u001b[1;33m.\u001b[0m\u001b[0menviron\u001b[0m\u001b[1;33m[\u001b[0m\u001b[1;34m'PYSPARK_PYTHON'\u001b[0m\u001b[1;33m]\u001b[0m\u001b[1;33m)\u001b[0m\u001b[1;33m\u001b[0m\u001b[1;33m\u001b[0m\u001b[0m\n\u001b[0m\u001b[0;32m      7\u001b[0m \u001b[0mprint\u001b[0m\u001b[1;33m(\u001b[0m\u001b[0mos\u001b[0m\u001b[1;33m.\u001b[0m\u001b[0menviron\u001b[0m\u001b[1;33m[\u001b[0m\u001b[1;34m'PYSPARK_DRIVER_PYTHON'\u001b[0m\u001b[1;33m]\u001b[0m\u001b[1;33m)\u001b[0m\u001b[1;33m\u001b[0m\u001b[1;33m\u001b[0m\u001b[0m\n",
      "\u001b[1;32m~\\Anaconda3\\lib\\os.py\u001b[0m in \u001b[0;36m__getitem__\u001b[1;34m(self, key)\u001b[0m\n\u001b[0;32m    676\u001b[0m         \u001b[1;32mexcept\u001b[0m \u001b[0mKeyError\u001b[0m\u001b[1;33m:\u001b[0m\u001b[1;33m\u001b[0m\u001b[1;33m\u001b[0m\u001b[0m\n\u001b[0;32m    677\u001b[0m             \u001b[1;31m# raise KeyError with the original key value\u001b[0m\u001b[1;33m\u001b[0m\u001b[1;33m\u001b[0m\u001b[1;33m\u001b[0m\u001b[0m\n\u001b[1;32m--> 678\u001b[1;33m             \u001b[1;32mraise\u001b[0m \u001b[0mKeyError\u001b[0m\u001b[1;33m(\u001b[0m\u001b[0mkey\u001b[0m\u001b[1;33m)\u001b[0m \u001b[1;32mfrom\u001b[0m \u001b[1;32mNone\u001b[0m\u001b[1;33m\u001b[0m\u001b[1;33m\u001b[0m\u001b[0m\n\u001b[0m\u001b[0;32m    679\u001b[0m         \u001b[1;32mreturn\u001b[0m \u001b[0mself\u001b[0m\u001b[1;33m.\u001b[0m\u001b[0mdecodevalue\u001b[0m\u001b[1;33m(\u001b[0m\u001b[0mvalue\u001b[0m\u001b[1;33m)\u001b[0m\u001b[1;33m\u001b[0m\u001b[1;33m\u001b[0m\u001b[0m\n\u001b[0;32m    680\u001b[0m \u001b[1;33m\u001b[0m\u001b[0m\n",
      "\u001b[1;31mKeyError\u001b[0m: 'PYSPARK_PYTHON'"
     ]
    }
   ],
   "source": [
    "import os\n",
    "\n",
    "# Set spark environments\n",
    "# os.environ['PYSPARK_PYTHON'] = '/usr/bin/python3'\n",
    "# os.environ['PYSPARK_DRIVER_PYTHON'] = '/usr/bin/python3'\n",
    "print (os.environ['PYSPARK_PYTHON'])\n",
    "print(os.environ['PYSPARK_DRIVER_PYTHON'])"
   ]
  },
  {
   "cell_type": "code",
   "execution_count": 6,
   "metadata": {},
   "outputs": [
    {
     "ename": "NameError",
     "evalue": "name 'python' is not defined",
     "output_type": "error",
     "traceback": [
      "\u001b[1;31m---------------------------------------------------------------------------\u001b[0m",
      "\u001b[1;31mNameError\u001b[0m                                 Traceback (most recent call last)",
      "\u001b[1;32m<ipython-input-6-a4637bbefc43>\u001b[0m in \u001b[0;36m<module>\u001b[1;34m\u001b[0m\n\u001b[1;32m----> 1\u001b[1;33m \u001b[0mpython\u001b[0m \u001b[1;33m-\u001b[0m\u001b[1;33m-\u001b[0m\u001b[0mversion\u001b[0m\u001b[1;33m\u001b[0m\u001b[1;33m\u001b[0m\u001b[0m\n\u001b[0m",
      "\u001b[1;31mNameError\u001b[0m: name 'python' is not defined"
     ]
    }
   ],
   "source": [
    "python --version\n"
   ]
  },
  {
   "cell_type": "code",
   "execution_count": 7,
   "metadata": {},
   "outputs": [
    {
     "name": "stdout",
     "output_type": "stream",
     "text": [
      "Loading channels: ...working... done\n",
      "# Name                       Version           Build  Channel             \n",
      "python                        2.7.13     h1b6d89f_16  pkgs/main           \n",
      "python                        2.7.13     h9912b81_15  pkgs/main           \n",
      "python                        2.7.13     hb034564_12  pkgs/main           \n",
      "python                        2.7.14     h2765ee6_18  pkgs/main           \n",
      "python                        2.7.14     h3e68818_15  pkgs/main           \n",
      "python                        2.7.14     h4084c39_22  pkgs/main           \n",
      "python                        2.7.14     h4a10d90_30  pkgs/main           \n",
      "python                        2.7.14     h4a10d90_31  pkgs/main           \n",
      "python                        2.7.14     h59f5a59_20  pkgs/main           \n",
      "python                        2.7.14     h819644d_16  pkgs/main           \n",
      "python                        2.7.14     h8c3f1cb_23  pkgs/main           \n",
      "python                        2.7.15      h2880e7c_2  pkgs/main           \n",
      "python                        2.7.15      h2880e7c_3  pkgs/main           \n",
      "python                        2.7.15      h2880e7c_4  pkgs/main           \n",
      "python                        2.7.15     hcb6e200_15  pkgs/main           \n",
      "python                        2.7.15      hcb6e200_5  pkgs/main           \n",
      "python                        2.7.15      hcb6e200_7  pkgs/main           \n",
      "python                        2.7.15      he216670_0  pkgs/main           \n",
      "python                        2.7.16      hcb6e200_0  pkgs/main           \n",
      "python                        2.7.17      h930f6bb_0  pkgs/main           \n",
      "python                        2.7.18      hcb6e200_0  pkgs/main           \n",
      "python                        2.7.18      hfb89ab9_0  pkgs/main           \n",
      "python                         3.5.4     h1357f44_23  pkgs/main           \n",
      "python                         3.5.4     hc495aa9_21  pkgs/main           \n",
      "python                         3.5.4     hd3c4935_11  pkgs/main           \n",
      "python                         3.5.4     hdec4e59_20  pkgs/main           \n",
      "python                         3.5.4     hedc2606_15  pkgs/main           \n",
      "python                         3.5.5      h0c2934d_0  pkgs/main           \n",
      "python                         3.5.5      h0c2934d_1  pkgs/main           \n",
      "python                         3.5.5      h0c2934d_2  pkgs/main           \n",
      "python                         3.5.6      he025d50_0  pkgs/main           \n",
      "python                         3.6.2     h09676a0_15  pkgs/main           \n",
      "python                         3.6.2     h6679aeb_11  pkgs/main           \n",
      "python                         3.6.3      h210ce5f_2  pkgs/main           \n",
      "python                         3.6.3      h3389d20_0  pkgs/main           \n",
      "python                         3.6.3      h3b118a2_4  pkgs/main           \n",
      "python                         3.6.3      h9e2ca53_1  pkgs/main           \n",
      "python                         3.6.4      h0c2934d_2  pkgs/main           \n",
      "python                         3.6.4      h0c2934d_3  pkgs/main           \n",
      "python                         3.6.4      h6538335_0  pkgs/main           \n",
      "python                         3.6.4      h6538335_1  pkgs/main           \n",
      "python                         3.6.5      h0c2934d_0  pkgs/main           \n",
      "python                         3.6.6      hea74fb7_0  pkgs/main           \n",
      "python                         3.6.7      h33f27b4_0  pkgs/main           \n",
      "python                         3.6.7      h33f27b4_1  pkgs/main           \n",
      "python                         3.6.7      h9f7ef89_2  pkgs/main           \n",
      "python                         3.6.8      h9f7ef89_0  pkgs/main           \n",
      "python                         3.6.8      h9f7ef89_1  pkgs/main           \n",
      "python                         3.6.8      h9f7ef89_7  pkgs/main           \n",
      "python                         3.6.9      h5500b2f_0  pkgs/main           \n",
      "python                        3.6.10      h9f7ef89_0  pkgs/main           \n",
      "python                        3.6.10      h9f7ef89_1  pkgs/main           \n",
      "python                        3.6.10      h9f7ef89_2  pkgs/main           \n",
      "python                        3.6.12      h5500b2f_2  pkgs/main           \n",
      "python                        3.6.13      h3758d61_0  pkgs/main           \n",
      "python                         3.7.0      hea74fb7_0  pkgs/main           \n",
      "python                         3.7.1      h33f27b4_3  pkgs/main           \n",
      "python                         3.7.1      h33f27b4_4  pkgs/main           \n",
      "python                         3.7.1      h8c8aaf0_6  pkgs/main           \n",
      "python                         3.7.1      he44a216_5  pkgs/main           \n",
      "python                         3.7.2      h8c8aaf0_0  pkgs/main           \n",
      "python                         3.7.2     h8c8aaf0_10  pkgs/main           \n",
      "python                         3.7.2      h8c8aaf0_2  pkgs/main           \n",
      "python                         3.7.3      h8c8aaf0_0  pkgs/main           \n",
      "python                         3.7.3      h8c8aaf0_1  pkgs/main           \n",
      "python                         3.7.4      h5263a28_0  pkgs/main           \n",
      "python                         3.7.5      h8c8aaf0_0  pkgs/main           \n",
      "python                         3.7.6      h60c2a47_2  pkgs/main           \n",
      "python                         3.7.7 h60c2a47_0_cpython  pkgs/main           \n",
      "python                         3.7.7      h60c2a47_2  pkgs/main           \n",
      "python                         3.7.7      h81c818b_4  pkgs/main           \n",
      "python                         3.7.9      h60c2a47_0  pkgs/main           \n",
      "python                        3.7.10      h6244533_0  pkgs/main           \n",
      "python                        3.7.11      h6244533_0  pkgs/main           \n",
      "python                        3.7.13      h6244533_0  pkgs/main           \n",
      "python                        3.7.13      h6244533_1  pkgs/main           \n",
      "python                        3.7.15      h6244533_0  pkgs/main           \n",
      "python                        3.7.15      h6244533_1  pkgs/main           \n",
      "python                        3.7.16      h6244533_0  pkgs/main           \n",
      "python                         3.8.0      hff0d562_0  pkgs/main           \n",
      "python                         3.8.0      hff0d562_1  pkgs/main           \n",
      "python                         3.8.0      hff0d562_2  pkgs/main           \n",
      "python                         3.8.1      h5fd99cc_1  pkgs/main           \n",
      "python                         3.8.1 h5fd99cc_8_cpython  pkgs/main           \n",
      "python                         3.8.1 he1778fa_7_cpython  pkgs/main           \n",
      "python                         3.8.2      h5fd99cc_0  pkgs/main           \n",
      "python                         3.8.2     h5fd99cc_11  pkgs/main           \n",
      "python                         3.8.2     he1778fa_13  pkgs/main           \n",
      "python                         3.8.3      he1778fa_0  pkgs/main           \n",
      "python                         3.8.3      he1778fa_2  pkgs/main           \n",
      "python                         3.8.5      h5fd99cc_1  pkgs/main           \n",
      "python                         3.8.5      he1778fa_0  pkgs/main           \n",
      "python                         3.8.8      hdbf39b2_4  pkgs/main           \n",
      "python                         3.8.8      hdbf39b2_5  pkgs/main           \n",
      "python                        3.8.10      hdbf39b2_7  pkgs/main           \n",
      "python                        3.8.11      h6244533_1  pkgs/main           \n",
      "python                        3.8.12      h6244533_0  pkgs/main           \n",
      "python                        3.8.13      h6244533_0  pkgs/main           \n",
      "python                        3.8.13      h6244533_1  pkgs/main           \n",
      "python                        3.8.15      h6244533_1  pkgs/main           \n",
      "python                        3.8.15      h6244533_2  pkgs/main           \n",
      "python                        3.8.15      h82bb817_0  pkgs/main           \n",
      "python                        3.8.16      h6244533_2  pkgs/main           \n",
      "python                        3.8.16      h6244533_3  pkgs/main           \n",
      "python                         3.9.0      h6244533_2  pkgs/main           \n",
      "python                         3.9.0      h8aef87e_1  pkgs/main           \n",
      "python                         3.9.1      h6244533_2  pkgs/main           \n",
      "python                         3.9.2      h6244533_0  pkgs/main           \n",
      "python                         3.9.4      h6244533_0  pkgs/main           \n",
      "python                         3.9.5      h6244533_3  pkgs/main           \n",
      "python                         3.9.6      h6244533_0  pkgs/main           \n",
      "python                         3.9.6      h6244533_1  pkgs/main           \n",
      "python                         3.9.7      h6244533_1  pkgs/main           \n",
      "python                        3.9.11      h6244533_1  pkgs/main           \n",
      "python                        3.9.11      h6244533_2  pkgs/main           \n",
      "python                        3.9.12      h6244533_0  pkgs/main           \n",
      "python                        3.9.13      h6244533_1  pkgs/main           \n",
      "python                        3.9.13      h6244533_2  pkgs/main           \n",
      "python                        3.9.15      h6244533_0  pkgs/main           \n",
      "python                        3.9.15      h6244533_1  pkgs/main           \n",
      "python                        3.9.15      h6244533_2  pkgs/main           \n",
      "python                        3.9.16      h6244533_0  pkgs/main           \n",
      "python                        3.9.16      h6244533_1  pkgs/main           \n",
      "python                        3.9.16      h6244533_2  pkgs/main           \n",
      "python                        3.10.0      h96c0403_3  pkgs/main           \n",
      "python                        3.10.0      hbb2ffb3_0  pkgs/main           \n",
      "python                        3.10.0      hbb2ffb3_1  pkgs/main           \n",
      "python                        3.10.0      hbb2ffb3_2  pkgs/main           \n",
      "python                        3.10.3      hbb2ffb3_5  pkgs/main           \n",
      "python                        3.10.4      hbb2ffb3_0  pkgs/main           \n",
      "python                        3.10.6      hbb2ffb3_0  pkgs/main           \n",
      "python                        3.10.6      hbb2ffb3_1  pkgs/main           \n",
      "python                        3.10.8      h966fe2a_1  pkgs/main           \n",
      "python                        3.10.8      hbb2ffb3_0  pkgs/main           \n",
      "python                        3.10.9      h966fe2a_0  pkgs/main           \n",
      "python                        3.10.9      h966fe2a_1  pkgs/main           \n",
      "python                        3.10.9      h966fe2a_2  pkgs/main           \n",
      "python                       3.10.10      h966fe2a_2  pkgs/main           \n",
      "python                        3.11.0      h966fe2a_2  pkgs/main           \n",
      "python                        3.11.0      h966fe2a_3  pkgs/main           \n",
      "\n",
      "Note: you may need to restart the kernel to use updated packages.\n"
     ]
    }
   ],
   "source": [
    "conda search python\n"
   ]
  },
  {
   "cell_type": "code",
   "execution_count": null,
   "metadata": {},
   "outputs": [],
   "source": [
    "conda install python=3.10.10\n",
    "\n"
   ]
  },
  {
   "cell_type": "code",
   "execution_count": null,
   "metadata": {},
   "outputs": [],
   "source": [
    "from platform import python_version\n",
    "\n",
    "print(python_version())"
   ]
  },
  {
   "cell_type": "code",
   "execution_count": null,
   "metadata": {},
   "outputs": [],
   "source": []
  },
  {
   "cell_type": "code",
   "execution_count": null,
   "metadata": {},
   "outputs": [],
   "source": []
  },
  {
   "cell_type": "code",
   "execution_count": null,
   "metadata": {},
   "outputs": [],
   "source": []
  },
  {
   "cell_type": "code",
   "execution_count": null,
   "metadata": {},
   "outputs": [],
   "source": []
  }
 ],
 "metadata": {
  "kernelspec": {
   "display_name": "Python 3",
   "language": "python",
   "name": "python3"
  },
  "language_info": {
   "codemirror_mode": {
    "name": "ipython",
    "version": 3
   },
   "file_extension": ".py",
   "mimetype": "text/x-python",
   "name": "python",
   "nbconvert_exporter": "python",
   "pygments_lexer": "ipython3",
   "version": "3.7.4"
  }
 },
 "nbformat": 4,
 "nbformat_minor": 4
}
