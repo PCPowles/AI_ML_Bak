{
 "cells": [
  {
   "cell_type": "code",
   "execution_count": null,
   "id": "eed9e0fa",
   "metadata": {},
   "outputs": [],
   "source": [
    "'Logistic regression model using python scikit -learn:\n",
    "\n",
    "'1) Data Preprocessing\n",
    "'2) Feature Engineering and EDA\n",
    "'3) Model Building\n",
    "'4) Model Evaluation\n",
    "\n",
    "'https://towardsdatascience.com/simple-logistic-regression-using-python-scikit-learn-86bf984f61f1\n",
    "'\"C:\\Users\\pcpow\\OneDrive\\Desktop\\ML-Poject_20230404\\weatherAUS.csv\"\n",
    "'\"C:/Users/pcpow/OneDrive/Desktop/ML-Poject_20230404/weatherAUS.csv\"'"
   ]
  },
  {
   "cell_type": "code",
   "execution_count": null,
   "id": "a757d45c",
   "metadata": {},
   "outputs": [],
   "source": [
    "'W3 Schools\n",
    "import numpy\n",
    "from sklearn import linear_model\n",
    "\n",
    "#Reshaped for Logistic function.\n",
    "X = numpy.array([3.78, 2.44, 2.09, 0.14, 1.72, 1.65, 4.92, 4.37, 4.96, 4.52, 3.69, 5.88]).reshape(-1,1)\n",
    "y = numpy.array([0, 0, 0, 0, 0, 0, 1, 1, 1, 1, 1, 1])\n",
    "\n",
    "logr = linear_model.LogisticRegression()\n",
    "logr.fit(X,y)\n",
    "\n",
    "#predict if tumor is cancerous where the size is 3.46mm:\n",
    "predicted = logr.predict(numpy.array([3.46]).reshape(-1,1))\n",
    "print(predicted)"
   ]
  },
  {
   "cell_type": "code",
   "execution_count": 3,
   "id": "3f0b5d64",
   "metadata": {},
   "outputs": [],
   "source": [
    "'W3 Schools\n",
    "import numpy\n",
    "from sklearn import linear_model\n",
    "\n",
    "#Reshaped for Logistic function.\n",
    "X = numpy.array([3.78, 2.44, 2.09, 0.14, 1.72, 1.65, 4.92, 4.37, 4.96, 4.52, 3.69, 5.88]).reshape(-1,1)\n",
    "Y = numpy.array([3.78, 2.44, 2.09, 0.14, 1.72, 1.65, 4.92, 4.37, 4.96, 4.52, 3.69, 5.88]).reshape(-1)"
   ]
  },
  {
   "cell_type": "code",
   "execution_count": 2,
   "id": "d7eb6272",
   "metadata": {},
   "outputs": [
    {
     "data": {
      "text/plain": [
       "array([[3.78],\n",
       "       [2.44],\n",
       "       [2.09],\n",
       "       [0.14],\n",
       "       [1.72],\n",
       "       [1.65],\n",
       "       [4.92],\n",
       "       [4.37],\n",
       "       [4.96],\n",
       "       [4.52],\n",
       "       [3.69],\n",
       "       [5.88]])"
      ]
     },
     "execution_count": 2,
     "metadata": {},
     "output_type": "execute_result"
    }
   ],
   "source": [
    "'W3 Schools\n",
    "X"
   ]
  },
  {
   "cell_type": "code",
   "execution_count": 4,
   "id": "1ceaef9a",
   "metadata": {},
   "outputs": [
    {
     "data": {
      "text/plain": [
       "array([3.78, 2.44, 2.09, 0.14, 1.72, 1.65, 4.92, 4.37, 4.96, 4.52, 3.69,\n",
       "       5.88])"
      ]
     },
     "execution_count": 4,
     "metadata": {},
     "output_type": "execute_result"
    }
   ],
   "source": [
    "'W3 Schools\n",
    "Y"
   ]
  },
  {
   "cell_type": "code",
   "execution_count": null,
   "id": "f3ad0bb1",
   "metadata": {},
   "outputs": [],
   "source": []
  },
  {
   "cell_type": "code",
   "execution_count": 6,
   "id": "17b1ead6",
   "metadata": {},
   "outputs": [],
   "source": [
    "'W3 Schools\n",
    "y = numpy.array([0, 0, 0, 0, 0, 0, 1, 1, 1, 1, 1, 1])"
   ]
  },
  {
   "cell_type": "code",
   "execution_count": 7,
   "id": "1f3cc8d2",
   "metadata": {},
   "outputs": [
    {
     "name": "stdout",
     "output_type": "stream",
     "text": [
      "[0]\n"
     ]
    }
   ],
   "source": [
    "'W3 Schools\n",
    "logr = linear_model.LogisticRegression()\n",
    "logr.fit(X,y)\n",
    "\n",
    "#predict if tumor is cancerous where the size is 3.46mm:\n",
    "predicted = logr.predict(numpy.array([3.46]).reshape(-1,1))\n",
    "print(predicted)"
   ]
  },
  {
   "cell_type": "code",
   "execution_count": null,
   "id": "0a7008d1",
   "metadata": {},
   "outputs": [],
   "source": []
  },
  {
   "cell_type": "code",
   "execution_count": null,
   "id": "4c06cf12",
   "metadata": {},
   "outputs": [],
   "source": []
  },
  {
   "cell_type": "code",
   "execution_count": null,
   "id": "49d658bd",
   "metadata": {},
   "outputs": [],
   "source": []
  },
  {
   "cell_type": "code",
   "execution_count": null,
   "id": "446e273c",
   "metadata": {},
   "outputs": [],
   "source": []
  },
  {
   "cell_type": "code",
   "execution_count": null,
   "id": "d8c9f38f",
   "metadata": {},
   "outputs": [],
   "source": []
  },
  {
   "cell_type": "code",
   "execution_count": null,
   "id": "f6969f2c",
   "metadata": {},
   "outputs": [],
   "source": []
  }
 ],
 "metadata": {
  "kernelspec": {
   "display_name": "Python 3 (ipykernel)",
   "language": "python",
   "name": "python3"
  },
  "language_info": {
   "codemirror_mode": {
    "name": "ipython",
    "version": 3
   },
   "file_extension": ".py",
   "mimetype": "text/x-python",
   "name": "python",
   "nbconvert_exporter": "python",
   "pygments_lexer": "ipython3",
   "version": "3.10.9"
  }
 },
 "nbformat": 4,
 "nbformat_minor": 5
}
