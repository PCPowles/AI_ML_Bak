{
 "cells": [
  {
   "cell_type": "code",
   "execution_count": null,
   "metadata": {},
   "outputs": [],
   "source": [
    "#Conditional Probability"
   ]
  },
  {
   "cell_type": "code",
   "execution_count": 1,
   "metadata": {},
   "outputs": [],
   "source": [
    "from numpy import random\n",
    "random.seed(0)\n",
    "\n",
    "totals = {20:0, 30:0, 40:0, 50:0, 60:0, 70:0}\n",
    "purchases = {20:0, 30:0, 40:0, 50:0, 60:0, 70:0}\n",
    "totalPurchases = 0\n",
    "for _ in range(100000):\n",
    "    ageDecade = random.choice([20, 30, 40, 50, 60, 70])\n",
    "    purchaseProbability = float(ageDecade) / 100.0\n",
    "    totals[ageDecade] += 1\n",
    "    if (random.random() < purchaseProbability):\n",
    "        totalPurchases += 1\n",
    "        purchases[ageDecade] += 1"
   ]
  },
  {
   "cell_type": "code",
   "execution_count": null,
   "metadata": {},
   "outputs": [],
   "source": []
  },
  {
   "cell_type": "code",
   "execution_count": 2,
   "metadata": {},
   "outputs": [
    {
     "data": {
      "text/plain": [
       "{20: 16576, 30: 16619, 40: 16632, 50: 16805, 60: 16664, 70: 16704}"
      ]
     },
     "execution_count": 2,
     "metadata": {},
     "output_type": "execute_result"
    }
   ],
   "source": [
    "totals"
   ]
  },
  {
   "cell_type": "code",
   "execution_count": 3,
   "metadata": {},
   "outputs": [
    {
     "data": {
      "text/plain": [
       "{20: 3392, 30: 4974, 40: 6670, 50: 8319, 60: 9944, 70: 11713}"
      ]
     },
     "execution_count": 3,
     "metadata": {},
     "output_type": "execute_result"
    }
   ],
   "source": [
    "purchases"
   ]
  },
  {
   "cell_type": "code",
   "execution_count": 4,
   "metadata": {},
   "outputs": [
    {
     "data": {
      "text/plain": [
       "45012"
      ]
     },
     "execution_count": 4,
     "metadata": {},
     "output_type": "execute_result"
    }
   ],
   "source": [
    "totalPurchases"
   ]
  },
  {
   "cell_type": "code",
   "execution_count": 5,
   "metadata": {},
   "outputs": [
    {
     "data": {
      "text/plain": [
       "0.2"
      ]
     },
     "execution_count": 5,
     "metadata": {},
     "output_type": "execute_result"
    }
   ],
   "source": [
    "purchaseProbability"
   ]
  },
  {
   "cell_type": "code",
   "execution_count": 6,
   "metadata": {},
   "outputs": [
    {
     "name": "stdout",
     "output_type": "stream",
     "text": [
      "P(purchase | 30s): 0.29929598652145134\n"
     ]
    }
   ],
   "source": [
    "# The probability of someone in their 30's buying something is just the percentage of how many 30-year-olds bought something:\n",
    "# E --> Purchase\n",
    "# F --> Event of being in an a Age Group (30s) in this example\n",
    "\n",
    "PEF = float(purchases[30]) / float(totals[30])\n",
    "print('P(purchase | 30s): ' + str(PEF))"
   ]
  },
  {
   "cell_type": "code",
   "execution_count": 7,
   "metadata": {},
   "outputs": [
    {
     "data": {
      "text/plain": [
       "4974"
      ]
     },
     "execution_count": 7,
     "metadata": {},
     "output_type": "execute_result"
    }
   ],
   "source": [
    "purchases[30]"
   ]
  },
  {
   "cell_type": "code",
   "execution_count": 8,
   "metadata": {},
   "outputs": [
    {
     "data": {
      "text/plain": [
       "16619"
      ]
     },
     "execution_count": 8,
     "metadata": {},
     "output_type": "execute_result"
    }
   ],
   "source": [
    "totals[30]"
   ]
  },
  {
   "cell_type": "code",
   "execution_count": 9,
   "metadata": {},
   "outputs": [
    {
     "name": "stdout",
     "output_type": "stream",
     "text": [
      "P(30's): 0.16619\n"
     ]
    }
   ],
   "source": [
    "# P(F) is just the probability of being 30 in this data set:\n",
    "\n",
    "PF = float(totals[30]) / 100000.0\n",
    "print(\"P(30's): \" +  str(PF))"
   ]
  },
  {
   "cell_type": "code",
   "execution_count": 10,
   "metadata": {},
   "outputs": [
    {
     "name": "stdout",
     "output_type": "stream",
     "text": [
      "P(Purchase):0.45012\n"
     ]
    }
   ],
   "source": [
    "# And P(E) is the overall probability of buying something, regardless of your age:\n",
    "\n",
    "PE = float(totalPurchases) / 100000.0\n",
    "print(\"P(Purchase):\" + str(PE))"
   ]
  },
  {
   "cell_type": "code",
   "execution_count": 11,
   "metadata": {},
   "outputs": [
    {
     "name": "stdout",
     "output_type": "stream",
     "text": [
      "P(30's)P(Purchase)0.07480544280000001\n"
     ]
    }
   ],
   "source": [
    "# What is P(E)P(F)?\n",
    "print(\"P(30's)P(Purchase)\" + str(PE * PF))"
   ]
  },
  {
   "cell_type": "code",
   "execution_count": 12,
   "metadata": {},
   "outputs": [
    {
     "name": "stdout",
     "output_type": "stream",
     "text": [
      "P(30's, Purchase)0.04974\n"
     ]
    }
   ],
   "source": [
    "# P(E,F) is different from P(E|F). P(E,F) would be the probability of both being in your 30's \n",
    "# and buying something, out of the total population - not just the \n",
    "# population of people in their 30's:\n",
    "\n",
    "print(\"P(30's, Purchase)\" + str(float(purchases[30]) / 100000.0))\n"
   ]
  },
  {
   "cell_type": "code",
   "execution_count": 13,
   "metadata": {},
   "outputs": [
    {
     "name": "stdout",
     "output_type": "stream",
     "text": [
      "0.29929598652145134\n"
     ]
    }
   ],
   "source": [
    "# P(E,F) = P(E)P(F), and they are pretty close in this example. \n",
    "# But because E and F are actually dependent on each other, and the randomness of the data we're working with, \n",
    "# it's not quite the same.\n",
    "\n",
    "# We can also check that P(E|F) = P(E,F)/P(F) and sure enough, it is:\n",
    "print((purchases[30] / 100000.0) / PF)"
   ]
  },
  {
   "cell_type": "code",
   "execution_count": 20,
   "metadata": {},
   "outputs": [],
   "source": [
    "# totals independent from purchases example\n",
    "from numpy import random\n",
    "random.seed(0)\n",
    "\n",
    "totals = {20:0, 30:0, 40:0, 50:0, 60:0, 70:0}\n",
    "purchases = {20:0, 30:0, 40:0, 50:0, 60:0, 70:0}\n",
    "\n",
    "totalPurchases = 0\n",
    "for _ in range(100000):\n",
    "    ageDecade = random.choice([20, 30, 40, 50, 60, 70])\n",
    "    \n",
    "    # purchaseProbability = float(ageDecade) / 100.0\n",
    "    purchaseProbability = .40\n",
    "    \n",
    "    totals[ageDecade] += 1\n",
    "    if (random.random() < purchaseProbability):\n",
    "        totalPurchases += 1\n",
    "        purchases[ageDecade] += 1"
   ]
  },
  {
   "cell_type": "code",
   "execution_count": 15,
   "metadata": {},
   "outputs": [
    {
     "data": {
      "text/plain": [
       "{20: 16576, 30: 16619, 40: 16632, 50: 16805, 60: 16664, 70: 16704}"
      ]
     },
     "execution_count": 15,
     "metadata": {},
     "output_type": "execute_result"
    }
   ],
   "source": [
    "totals"
   ]
  },
  {
   "cell_type": "code",
   "execution_count": 16,
   "metadata": {},
   "outputs": [
    {
     "data": {
      "text/plain": [
       "{20: 6710, 30: 6627, 40: 6670, 50: 6665, 60: 6638, 70: 6720}"
      ]
     },
     "execution_count": 16,
     "metadata": {},
     "output_type": "execute_result"
    }
   ],
   "source": [
    "purchases"
   ]
  },
  {
   "cell_type": "code",
   "execution_count": 17,
   "metadata": {},
   "outputs": [
    {
     "data": {
      "text/plain": [
       "40030"
      ]
     },
     "execution_count": 17,
     "metadata": {},
     "output_type": "execute_result"
    }
   ],
   "source": [
    "totalPurchases"
   ]
  },
  {
   "cell_type": "code",
   "execution_count": 18,
   "metadata": {},
   "outputs": [
    {
     "name": "stdout",
     "output_type": "stream",
     "text": [
      "20 16576\n",
      "30 16619\n",
      "40 16632\n",
      "50 16805\n",
      "60 16664\n",
      "70 16704\n"
     ]
    }
   ],
   "source": [
    "for x, y in totals.items():\n",
    "  print(x, y)"
   ]
  },
  {
   "cell_type": "code",
   "execution_count": 19,
   "metadata": {},
   "outputs": [
    {
     "name": "stdout",
     "output_type": "stream",
     "text": [
      "20 6710\n",
      "30 6627\n",
      "40 6670\n",
      "50 6665\n",
      "60 6638\n",
      "70 6720\n"
     ]
    }
   ],
   "source": [
    "for x, y in purchases.items():\n",
    "  print(x, y)"
   ]
  },
  {
   "cell_type": "code",
   "execution_count": null,
   "metadata": {},
   "outputs": [],
   "source": []
  },
  {
   "cell_type": "code",
   "execution_count": null,
   "metadata": {},
   "outputs": [],
   "source": []
  },
  {
   "cell_type": "code",
   "execution_count": null,
   "metadata": {},
   "outputs": [],
   "source": []
  },
  {
   "cell_type": "code",
   "execution_count": null,
   "metadata": {},
   "outputs": [],
   "source": []
  },
  {
   "cell_type": "code",
   "execution_count": 21,
   "metadata": {},
   "outputs": [
    {
     "name": "stdout",
     "output_type": "stream",
     "text": [
      "20 6710\n",
      "30 6627\n",
      "40 6670\n",
      "50 6665\n",
      "60 6638\n",
      "70 6720\n"
     ]
    }
   ],
   "source": [
    "for x, y in purchases.items():\n",
    "  print(x, y)"
   ]
  },
  {
   "cell_type": "code",
   "execution_count": 22,
   "metadata": {},
   "outputs": [
    {
     "name": "stdout",
     "output_type": "stream",
     "text": [
      "20 16576\n",
      "30 16619\n",
      "40 16632\n",
      "50 16805\n",
      "60 16664\n",
      "70 16704\n"
     ]
    }
   ],
   "source": [
    "for x, y in totals.items():\n",
    "  print(x, y)"
   ]
  },
  {
   "cell_type": "code",
   "execution_count": 23,
   "metadata": {},
   "outputs": [
    {
     "name": "stdout",
     "output_type": "stream",
     "text": [
      "P(purchase | 30s):  0.3987604549010169\n"
     ]
    }
   ],
   "source": [
    "PEF = float(purchases[30]) / float(totals[30])\n",
    "print (\"P(purchase | 30s): \", PEF)"
   ]
  },
  {
   "cell_type": "code",
   "execution_count": 26,
   "metadata": {},
   "outputs": [
    {
     "name": "stdout",
     "output_type": "stream",
     "text": [
      "P(purchase):  0.3987604549010169\n"
     ]
    }
   ],
   "source": [
    "PE = float(totalPurchases) / 100000.0\n",
    "print (\"P(purchase): \", PEF)"
   ]
  },
  {
   "cell_type": "code",
   "execution_count": null,
   "metadata": {},
   "outputs": [],
   "source": []
  },
  {
   "cell_type": "code",
   "execution_count": null,
   "metadata": {},
   "outputs": [],
   "source": []
  },
  {
   "cell_type": "code",
   "execution_count": null,
   "metadata": {},
   "outputs": [],
   "source": []
  },
  {
   "cell_type": "code",
   "execution_count": null,
   "metadata": {},
   "outputs": [],
   "source": []
  },
  {
   "cell_type": "code",
   "execution_count": null,
   "metadata": {},
   "outputs": [],
   "source": []
  },
  {
   "cell_type": "code",
   "execution_count": null,
   "metadata": {},
   "outputs": [],
   "source": []
  },
  {
   "cell_type": "code",
   "execution_count": null,
   "metadata": {},
   "outputs": [],
   "source": []
  },
  {
   "cell_type": "code",
   "execution_count": null,
   "metadata": {},
   "outputs": [],
   "source": []
  },
  {
   "cell_type": "code",
   "execution_count": null,
   "metadata": {},
   "outputs": [],
   "source": []
  }
 ],
 "metadata": {
  "kernelspec": {
   "display_name": "Python 3",
   "language": "python",
   "name": "python3"
  },
  "language_info": {
   "codemirror_mode": {
    "name": "ipython",
    "version": 3
   },
   "file_extension": ".py",
   "mimetype": "text/x-python",
   "name": "python",
   "nbconvert_exporter": "python",
   "pygments_lexer": "ipython3",
   "version": "3.7.4"
  }
 },
 "nbformat": 4,
 "nbformat_minor": 2
}
